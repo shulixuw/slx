{
 "cells": [
  {
   "cell_type": "markdown",
   "metadata": {},
   "source": [
    "# 选择\n",
    "## 布尔类型、数值和表达式\n",
    "![](../Photo/33.png)\n",
    "- 注意：比较运算符的相等是两个等到，一个等到代表赋值\n",
    "- 在Python中可以用整型0来代表False，其他数字来代表True\n",
    "- 后面还会讲到 is 在判断语句中的用发"
   ]
  },
  {
   "cell_type": "code",
   "execution_count": 1,
   "metadata": {},
   "outputs": [
    {
     "name": "stdout",
     "output_type": "stream",
     "text": [
      "True\n"
     ]
    }
   ],
   "source": [
    "print(1<2)"
   ]
  },
  {
   "cell_type": "code",
   "execution_count": null,
   "metadata": {},
   "outputs": [],
   "source": [
    "if "
   ]
  },
  {
   "cell_type": "code",
   "execution_count": 2,
   "metadata": {},
   "outputs": [
    {
     "data": {
      "text/plain": [
       "False"
      ]
     },
     "execution_count": 2,
     "metadata": {},
     "output_type": "execute_result"
    }
   ],
   "source": [
    "(1 is 2)"
   ]
  },
  {
   "cell_type": "code",
   "execution_count": 3,
   "metadata": {},
   "outputs": [
    {
     "data": {
      "text/plain": [
       "True"
      ]
     },
     "execution_count": 3,
     "metadata": {},
     "output_type": "execute_result"
    }
   ],
   "source": [
    "(1 is 1)"
   ]
  },
  {
   "cell_type": "code",
   "execution_count": 4,
   "metadata": {},
   "outputs": [
    {
     "data": {
      "text/plain": [
       "True"
      ]
     },
     "execution_count": 4,
     "metadata": {},
     "output_type": "execute_result"
    }
   ],
   "source": [
    "1 != 2"
   ]
  },
  {
   "cell_type": "code",
   "execution_count": null,
   "metadata": {},
   "outputs": [],
   "source": [
    "a = 1000"
   ]
  },
  {
   "cell_type": "code",
   "execution_count": 12,
   "metadata": {},
   "outputs": [
    {
     "name": "stdout",
     "output_type": "stream",
     "text": [
      "取的钱数位1000\n",
      "余额不足\n"
     ]
    }
   ],
   "source": [
    "b = eval(input('取的钱数位'))\n",
    "if a >= b:\n",
    "    a = a - b\n",
    "    print('余额为：',a)\n",
    "else:\n",
    "    print('余额不足')\n",
    "    "
   ]
  },
  {
   "cell_type": "code",
   "execution_count": 13,
   "metadata": {},
   "outputs": [
    {
     "data": {
      "text/plain": [
       "True"
      ]
     },
     "execution_count": 13,
     "metadata": {},
     "output_type": "execute_result"
    }
   ],
   "source": [
    "'A' < 'a'"
   ]
  },
  {
   "cell_type": "code",
   "execution_count": 14,
   "metadata": {},
   "outputs": [
    {
     "data": {
      "text/plain": [
       "False"
      ]
     },
     "execution_count": 14,
     "metadata": {},
     "output_type": "execute_result"
    }
   ],
   "source": [
    "'ABC' < '123'"
   ]
  },
  {
   "cell_type": "markdown",
   "metadata": {},
   "source": [
    "## 字符串的比较使用ASCII值"
   ]
  },
  {
   "cell_type": "markdown",
   "metadata": {},
   "source": [
    "## Markdown \n",
    "- https://github.com/younghz/Markdown"
   ]
  },
  {
   "cell_type": "markdown",
   "metadata": {},
   "source": [
    "## EP:\n",
    "- <img src=\"../Photo/34.png\"></img>\n",
    "- 输入一个数字，判断其实奇数还是偶数"
   ]
  },
  {
   "cell_type": "markdown",
   "metadata": {},
   "source": [
    "## 产生随机数字\n",
    "- 函数random.randint(a,b) 可以用来产生一个a和b之间且包括a和b的随机整数"
   ]
  },
  {
   "cell_type": "code",
   "execution_count": 47,
   "metadata": {},
   "outputs": [
    {
     "data": {
      "text/plain": [
       "5"
      ]
     },
     "execution_count": 47,
     "metadata": {},
     "output_type": "execute_result"
    }
   ],
   "source": [
    "random.randint(3,5)"
   ]
  },
  {
   "cell_type": "markdown",
   "metadata": {},
   "source": [
    "##  其他random方法\n",
    "- random.random 返回0.0到1.0之间前闭后开区间的随机浮点\n",
    "- random.randrange(a,b) 前闭后开"
   ]
  },
  {
   "cell_type": "code",
   "execution_count": 30,
   "metadata": {},
   "outputs": [
    {
     "data": {
      "text/plain": [
       "0.7437248367991928"
      ]
     },
     "execution_count": 30,
     "metadata": {},
     "output_type": "execute_result"
    }
   ],
   "source": [
    "import random\n",
    "random.random()"
   ]
  },
  {
   "cell_type": "code",
   "execution_count": 39,
   "metadata": {},
   "outputs": [
    {
     "data": {
      "text/plain": [
       "1"
      ]
     },
     "execution_count": 39,
     "metadata": {},
     "output_type": "execute_result"
    }
   ],
   "source": [
    "import random\n",
    "random.randrange(1,3)"
   ]
  },
  {
   "cell_type": "markdown",
   "metadata": {},
   "source": [
    "## EP：\n",
    "- 产生两个随机整数number1和number2，然后显示给用户，使用户输入数字的和，并判定其是否正确\n",
    "- 进阶:写一个随机序号点名程序"
   ]
  },
  {
   "cell_type": "code",
   "execution_count": 28,
   "metadata": {},
   "outputs": [
    {
     "name": "stdout",
     "output_type": "stream",
     "text": [
      "1\n",
      "5\n",
      "输入显示的数字的和 7\n",
      "判断错误\n"
     ]
    }
   ],
   "source": [
    "import random\n",
    "a = random.randrange(1,5)\n",
    "b = random.randrange(1,10)\n",
    "print(a)\n",
    "print(b)\n",
    "c = a+b\n",
    "d = eval(input('输入显示的数字的和 '))\n",
    "if d==c:\n",
    "    print('判断正确')\n",
    "else:\n",
    "    print('判断错误')"
   ]
  },
  {
   "cell_type": "markdown",
   "metadata": {},
   "source": [
    "## if语句\n",
    "- 如果条件正确就执行一个单向if语句，亦即当条件为真的时候才执行if内部的语句\n",
    "- Python有很多选择语句:\n",
    "> - 单向if \n",
    "  - 双向if-else\n",
    "  - 嵌套if\n",
    "  - 多向if-elif-else\n",
    "  \n",
    "- 注意：当语句含有子语句的时候，那么一定至少要有一个缩进，也就是说如果有儿子存在，那么一定要缩进\n",
    "- 切记不可tab键和space混用，单用tab 或者 space\n",
    "- 当你输出的结果是无论if是否为真时都需要显示时，语句应该与if对齐"
   ]
  },
  {
   "cell_type": "code",
   "execution_count": null,
   "metadata": {},
   "outputs": [],
   "source": [
    "if condition:\n",
    "elif condition:\n",
    "else:"
   ]
  },
  {
   "cell_type": "code",
   "execution_count": 26,
   "metadata": {},
   "outputs": [
    {
     "name": "stdout",
     "output_type": "stream",
     "text": [
      "输入成绩：85\n",
      "良好\n"
     ]
    }
   ],
   "source": [
    "chengji = eval(input('输入成绩：'))\n",
    "if chengji>90:\n",
    "    print('优')\n",
    "if chengji<80 and chengji>60:\n",
    "    print('及格')\n",
    "elif chengji<90 and chengji>80:\n",
    "    print('良好')"
   ]
  },
  {
   "cell_type": "markdown",
   "metadata": {},
   "source": [
    "## EP：\n",
    "- 用户输入一个数字，判断其实奇数还是偶数\n",
    "- 进阶：可以查看下4.5实例研究猜生日"
   ]
  },
  {
   "cell_type": "code",
   "execution_count": 55,
   "metadata": {},
   "outputs": [
    {
     "name": "stdout",
     "output_type": "stream",
     "text": [
      "输入一个数字：5\n",
      "奇数\n"
     ]
    }
   ],
   "source": [
    "number = eval(input('输入一个数字：'))\n",
    "if number%2 ==0:\n",
    "    print('偶数')\n",
    "else:\n",
    "    print('奇数')"
   ]
  },
  {
   "cell_type": "markdown",
   "metadata": {},
   "source": [
    "## 双向if-else 语句\n",
    "- 如果条件为真，那么走if内部语句，否则走else内部语句"
   ]
  },
  {
   "cell_type": "markdown",
   "metadata": {},
   "source": [
    "## EP：\n",
    "- 产生两个随机整数number1和number2，然后显示给用户，使用户输入数字，并判定其是否正确,如果正确打印“you‘re correct”，否则打印正确错误"
   ]
  },
  {
   "cell_type": "code",
   "execution_count": 7,
   "metadata": {},
   "outputs": [
    {
     "name": "stdout",
     "output_type": "stream",
     "text": [
      "84 44\n",
      "输入数字：84,44\n",
      "you are correct\n"
     ]
    }
   ],
   "source": [
    "import random\n",
    "number1=random.randrange(1,100)\n",
    "number2=random.randrange(1,100)\n",
    "print(number1,number2)\n",
    "a,b= eval(input('输入数字：'))\n",
    "if a==number1 and  b==number2:\n",
    "    print('you are correct')\n",
    "else:\n",
    "    print('打印错误')"
   ]
  },
  {
   "cell_type": "markdown",
   "metadata": {},
   "source": [
    "## 嵌套if 和多向if-elif-else\n",
    "![](../Photo/35.png)"
   ]
  },
  {
   "cell_type": "markdown",
   "metadata": {},
   "source": [
    "## EP：\n",
    "- 提示用户输入一个年份，然后显示表示这一年的动物\n",
    "![](../Photo/36.png)\n",
    "- 计算身体质量指数的程序\n",
    "- BMI = 以千克为单位的体重除以以米为单位的身高\n",
    "![](../Photo/37.png)"
   ]
  },
  {
   "cell_type": "code",
   "execution_count": 12,
   "metadata": {},
   "outputs": [
    {
     "data": {
      "text/plain": [
       "30.0"
      ]
     },
     "execution_count": 12,
     "metadata": {},
     "output_type": "execute_result"
    }
   ],
   "source": [
    "48/1.6"
   ]
  },
  {
   "cell_type": "code",
   "execution_count": 9,
   "metadata": {},
   "outputs": [
    {
     "name": "stdout",
     "output_type": "stream",
     "text": [
      "体重68\n",
      "身高1.75\n",
      "痴肥\n"
     ]
    }
   ],
   "source": [
    "kg = eval(input('体重'))\n",
    "m = eval(input('身高'))\n",
    "BMI = kg/m\n",
    "if BMI>=30.0:\n",
    "    print('痴肥')\n",
    "elif 25.0<=BMI<30.0:\n",
    "    print('超重')\n",
    "elif 18.5<=BMI<25.0:\n",
    "    print('标准')\n",
    "elif BMI<18.5:\n",
    "    print('超轻')\n",
    "    "
   ]
  },
  {
   "cell_type": "code",
   "execution_count": 60,
   "metadata": {},
   "outputs": [
    {
     "name": "stdout",
     "output_type": "stream",
     "text": [
      "输入年份：1973\n",
      "牛\n"
     ]
    }
   ],
   "source": [
    "year = eval(input('输入年份：'))\n",
    "if year%12==0:\n",
    "    print('猴')\n",
    "elif year%12==1:\n",
    "    print('鸡')\n",
    "elif year%12==2:\n",
    "    print('狗')\n",
    "elif year%12==3:\n",
    "    print('猪')\n",
    "elif year%12==4:\n",
    "    print('鼠')\n",
    "elif year%12==5:\n",
    "    print('牛')\n",
    "elif year%12==6:\n",
    "    print('虎')\n",
    "elif year%12==7:\n",
    "    print('兔')\n",
    "elif year%12==8:\n",
    "    print('龙')\n",
    "elif year%12==9:\n",
    "    print('蛇')\n",
    "elif year%12==10:\n",
    "    print('马')\n",
    "elif year%12==11:\n",
    "    print('羊')"
   ]
  },
  {
   "cell_type": "markdown",
   "metadata": {},
   "source": [
    "## 逻辑运算符\n",
    "![](../Photo/38.png)"
   ]
  },
  {
   "cell_type": "code",
   "execution_count": 14,
   "metadata": {},
   "outputs": [
    {
     "data": {
      "text/plain": [
       "True"
      ]
     },
     "execution_count": 14,
     "metadata": {},
     "output_type": "execute_result"
    }
   ],
   "source": [
    "1 is 1"
   ]
  },
  {
   "cell_type": "code",
   "execution_count": 13,
   "metadata": {},
   "outputs": [
    {
     "data": {
      "text/plain": [
       "False"
      ]
     },
     "execution_count": 13,
     "metadata": {},
     "output_type": "execute_result"
    }
   ],
   "source": [
    "1 is not 1"
   ]
  },
  {
   "cell_type": "code",
   "execution_count": 17,
   "metadata": {},
   "outputs": [
    {
     "name": "stdout",
     "output_type": "stream",
     "text": [
      "正常\n"
     ]
    }
   ],
   "source": [
    "a = '男'\n",
    "b = '女'\n",
    "if a is b:\n",
    "    print('人妖')\n",
    "else:\n",
    "    print('正常')"
   ]
  },
  {
   "cell_type": "code",
   "execution_count": 18,
   "metadata": {},
   "outputs": [
    {
     "data": {
      "text/plain": [
       "True"
      ]
     },
     "execution_count": 18,
     "metadata": {},
     "output_type": "execute_result"
    }
   ],
   "source": [
    "not (10 > 10)"
   ]
  },
  {
   "cell_type": "code",
   "execution_count": null,
   "metadata": {},
   "outputs": [],
   "source": [
    "not (10 == 10)"
   ]
  },
  {
   "cell_type": "markdown",
   "metadata": {},
   "source": [
    "![](../Photo/39.png)\n",
    "![](../Photo/40.png)"
   ]
  },
  {
   "cell_type": "markdown",
   "metadata": {},
   "source": [
    "## EP：\n",
    "- 判定闰年：一个年份如果能被4整除但不能被100整除，或者能被400整除，那么这个年份就是闰年\n",
    "- 提示用户输入一个年份，并返回是否是闰年\n",
    "- 提示用户输入一个数字，判断其是否为水仙花数"
   ]
  },
  {
   "cell_type": "code",
   "execution_count": 43,
   "metadata": {},
   "outputs": [
    {
     "name": "stdout",
     "output_type": "stream",
     "text": [
      "年份：1996\n",
      "闰年\n"
     ]
    }
   ],
   "source": [
    "year = eval(input('年份：'))\n",
    "if (year%4==0 and year//400==0) or year%100!=0:\n",
    "    print('闰年')\n",
    "else:\n",
    "    print('平年')"
   ]
  },
  {
   "cell_type": "code",
   "execution_count": 55,
   "metadata": {},
   "outputs": [
    {
     "name": "stdout",
     "output_type": "stream",
     "text": [
      "是水仙花数 153\n",
      "是水仙花数 370\n",
      "是水仙花数 371\n",
      "是水仙花数 407\n"
     ]
    }
   ],
   "source": [
    "for num in range(100,1000):\n",
    "    a = num // 100\n",
    "    b = num % 100\n",
    "    c = b // 10\n",
    "    d = b % 10\n",
    "    e = a**3+c**3+d**3\n",
    "    if e==num:\n",
    "        print('是水仙花数',e)"
   ]
  },
  {
   "cell_type": "code",
   "execution_count": 41,
   "metadata": {},
   "outputs": [
    {
     "name": "stdout",
     "output_type": "stream",
     "text": [
      "数153\n",
      "水仙花\n"
     ]
    }
   ],
   "source": [
    "num = eval(input('数'))\n",
    "str_num = str(num)\n",
    "bai = int(str_num[0])\n",
    "shi = int(str_num[1])\n",
    "ge = int(str_num[2])\n",
    "if num == bai**3+shi**3+ge**3:\n",
    "    print('水仙花')\n",
    "else:\n",
    "    print('不是水仙花数')"
   ]
  },
  {
   "cell_type": "code",
   "execution_count": 5,
   "metadata": {},
   "outputs": [
    {
     "name": "stdout",
     "output_type": "stream",
     "text": [
      "水仙花 153\n",
      "水仙花 370\n",
      "水仙花 371\n",
      "水仙花 407\n"
     ]
    }
   ],
   "source": [
    "for num in range(100,1000):\n",
    "    str_num = str(num)\n",
    "    bai = int(str_num[0])\n",
    "    shi = int(str_num[1])\n",
    "    ge = int(str_num[2])\n",
    "    if num == bai**3+shi**3+ge**3:\n",
    "        print('水仙花',num)"
   ]
  },
  {
   "cell_type": "markdown",
   "metadata": {},
   "source": [
    "## 实例研究：彩票\n",
    "![](../Photo/41.png)"
   ]
  },
  {
   "cell_type": "code",
   "execution_count": null,
   "metadata": {},
   "outputs": [],
   "source": [
    "import random\n",
    "num = random.randrange(10,100)\n",
    "a = eval(input('输入一个两位数'))\n",
    "str_num = str(num)\n",
    "s = int(str_num[0])\n",
    "g = int(str_num[1])\n",
    "if s*10+g==a:\n",
    "    print('奖金10000美金')"
   ]
  },
  {
   "cell_type": "code",
   "execution_count": 3,
   "metadata": {},
   "outputs": [
    {
     "name": "stdout",
     "output_type": "stream",
     "text": [
      "25\n",
      "输入一个两位数25\n",
      "奖金10000美金\n"
     ]
    }
   ],
   "source": [
    "import random\n",
    "num = random.randrange(10,100)\n",
    "a= num % 10\n",
    "b= num // 10\n",
    "print(num)\n",
    "shu = eval(input('输入一个两位数'))\n",
    "if a == shu % 10 and b == shu //10:\n",
    "    print('奖金10000美金')\n",
    "elif b == shu % 10 and a == shu //10:\n",
    "    print('奖金3000美金')\n",
    "elif a == shu % 10 or b == shu //10:\n",
    "    print('奖金1000美金')\n",
    "else:\n",
    "    print('不好意思，未中奖')"
   ]
  },
  {
   "cell_type": "markdown",
   "metadata": {},
   "source": [
    "# Homework\n",
    "- 1\n",
    "![](../Photo/42.png)"
   ]
  },
  {
   "cell_type": "code",
   "execution_count": 12,
   "metadata": {},
   "outputs": [
    {
     "name": "stdout",
     "output_type": "stream",
     "text": [
      "输入a，b，c的值分别为：1,3,1\n",
      "the root are -0.3819660112501051 and -2.618033988749895\n"
     ]
    }
   ],
   "source": [
    "import math\n",
    "a,b,c =eval(input('输入a，b，c的值分别为：'))\n",
    "d = b*b-4*a*c\n",
    "if d > 0:\n",
    "    r1=(-b+math.sqrt(b*b-4*a*c))/2*a\n",
    "    r2=(-b-math.sqrt(b*b-4*a*c))/2*a\n",
    "    print('the root are',r1,'and',r2)\n",
    "elif d==0:\n",
    "    r1=(-b+math.sqrt(b*b-4*a*c))/2*a\n",
    "    print('the root is',r1)\n",
    "elif d<0:\n",
    "    print('the equation has no real roots')"
   ]
  },
  {
   "cell_type": "markdown",
   "metadata": {},
   "source": [
    "- 2\n",
    "![](../Photo/43.png)"
   ]
  },
  {
   "cell_type": "code",
   "execution_count": 1,
   "metadata": {},
   "outputs": [
    {
     "name": "stdout",
     "output_type": "stream",
     "text": [
      "5\n",
      "26\n",
      "31\n",
      "请输入这两个数的和：31\n",
      "真\n"
     ]
    }
   ],
   "source": [
    "import random\n",
    "a = random.randrange(0,100)\n",
    "print(a)\n",
    "b = random.randrange(0,100)\n",
    "print(b)\n",
    "c = a + b\n",
    "print(c)\n",
    "e = eval(input('请输入这两个数的和：'))\n",
    "if e == c:\n",
    "    print('真')\n",
    "else:\n",
    "    print('假')"
   ]
  },
  {
   "cell_type": "markdown",
   "metadata": {},
   "source": [
    "- 3\n",
    "![](../Photo/44.png)"
   ]
  },
  {
   "cell_type": "code",
   "execution_count": 2,
   "metadata": {},
   "outputs": [
    {
     "name": "stdout",
     "output_type": "stream",
     "text": [
      "今天是星期几3\n",
      "今天是周 3\n",
      "你想知道几天后是星期几2\n",
      "2天后是周5\n"
     ]
    }
   ],
   "source": [
    "x = eval (input('今天是星期几'))\n",
    "if x==0:\n",
    "    print ('今天是周日')\n",
    "else:\n",
    "    print('今天是周',x)    \n",
    "y = eval (input('你想知道几天后是星期几'))\n",
    "a =( x+y ) % 7 \n",
    "if a==0:\n",
    "    print (str(y)+'天后是周日')\n",
    "else:\n",
    "    print(str(y) +'天后是周' +str((x+y)%7 ))\n"
   ]
  },
  {
   "cell_type": "markdown",
   "metadata": {},
   "source": [
    "- 4\n",
    "![](../Photo/45.png)"
   ]
  },
  {
   "cell_type": "code",
   "execution_count": 22,
   "metadata": {},
   "outputs": [
    {
     "name": "stdout",
     "output_type": "stream",
     "text": [
      "输入三个整数1,7,9\n",
      "9 7 1\n"
     ]
    }
   ],
   "source": [
    "x,y,z = eval(input('输入三个整数'))\n",
    "a = max(x,y,z)\n",
    "c = min(x,y,z)\n",
    "b = x+y+z-a-c\n",
    "print(a,b,c)"
   ]
  },
  {
   "cell_type": "markdown",
   "metadata": {},
   "source": [
    "- 5\n",
    "![](../Photo/46.png)"
   ]
  },
  {
   "cell_type": "code",
   "execution_count": 11,
   "metadata": {},
   "outputs": [
    {
     "name": "stdout",
     "output_type": "stream",
     "text": [
      "重量，价钱50,24.59\n",
      "重量，价钱25,11.99\n",
      "the better price is  2.085070892410342\n"
     ]
    }
   ],
   "source": [
    "x1,y1 = eval(input('重量，价钱'))\n",
    "x2,y2 = eval(input('重量，价钱'))\n",
    "a = x1/y1\n",
    "b = x2/y2\n",
    "c = max(a,b)\n",
    "\n",
    "print('the better price is ',c)"
   ]
  },
  {
   "cell_type": "markdown",
   "metadata": {},
   "source": [
    "- 6\n",
    "![](../Photo/47.png)"
   ]
  },
  {
   "cell_type": "code",
   "execution_count": 8,
   "metadata": {},
   "outputs": [
    {
     "name": "stdout",
     "output_type": "stream",
     "text": [
      "输入年份和月份：2000,2\n",
      "2000年2月有29天\n"
     ]
    }
   ],
   "source": [
    "year,m = eval(input('输入年份和月份：'))\n",
    "if (m>6 and m%2==0) or (m<8 and m%2==1):\n",
    "    print(str(year) + '年' +str(m)+'月有31天' )\n",
    "elif m==2:\n",
    "    if (year%4==0 and year%100 != 0) or year%400==0:\n",
    "        print(str(year) + '年' +str(m)+'月有29天')\n",
    "    else:\n",
    "        print(str(year) + '年' +str(m)+'月有28天')\n",
    "else:\n",
    "    print((str(year) + '年' +str(m)+'月有30天' ))\n"
   ]
  },
  {
   "cell_type": "markdown",
   "metadata": {},
   "source": [
    "- 7\n",
    "![](../Photo/48.png)"
   ]
  },
  {
   "cell_type": "code",
   "execution_count": 18,
   "metadata": {},
   "outputs": [
    {
     "name": "stdout",
     "output_type": "stream",
     "text": [
      "猜猜硬币是正面（1）还是反面（0）：0\n",
      "您猜对了！\n"
     ]
    }
   ],
   "source": [
    "import random\n",
    "z=eval(input('猜猜硬币是正面（1）还是反面（0）：'))\n",
    "ss=random.randint(0,1)\n",
    "d='正面'\n",
    "if ss==0:\n",
    "    d='反面'\n",
    "if z==ss:\n",
    "    print('您猜对了！')\n",
    "else:\n",
    "    print('很遗憾，您猜错了，硬币是' + d)"
   ]
  },
  {
   "cell_type": "markdown",
   "metadata": {},
   "source": [
    "- 8\n",
    "![](../Photo/49.png)"
   ]
  },
  {
   "cell_type": "code",
   "execution_count": 17,
   "metadata": {},
   "outputs": [
    {
     "name": "stdout",
     "output_type": "stream",
     "text": [
      "剪刀(0) 石头(1) 布(2)：0\n",
      "您赢了！\n"
     ]
    }
   ],
   "source": [
    "import random\n",
    "z=eval(input('剪刀(0) 石头(1) 布(2)：'))\n",
    "ss=random.randint(0,2)\n",
    "if (ss<z and z-ss==1) or (ss-z==2):\n",
    "    print('您赢了！')\n",
    "elif z==ss:\n",
    "    print('平局')\n",
    "else:\n",
    "    print('很遗憾，您输了！')"
   ]
  },
  {
   "cell_type": "markdown",
   "metadata": {},
   "source": [
    "- 9\n",
    "![](../Photo/50.png)"
   ]
  },
  {
   "cell_type": "code",
   "execution_count": 23,
   "metadata": {},
   "outputs": [
    {
     "name": "stdout",
     "output_type": "stream",
     "text": [
      "输入年份：2012\n",
      "输入月份：5\n",
      "输入当前月份的某天：12\n",
      "Day of the week is 星期六\n"
     ]
    }
   ],
   "source": [
    "year = eval(input('输入年份：'))\n",
    "months = eval(input('输入月份：'))\n",
    "days = eval(input('输入当前月份的某天：'))\n",
    "hdayDict = {0:'星期六',1:'星期日', 2: '星期一', 3: '星期二', 4: '星期三', 5: '星期四', 6: '星期五'}\n",
    "monDict = {1: '13', 2: '14', 3: '3', 4: '4', 5: '5', 6: '6', 7: '7', 8: '8', 9: '9', 10: '10', \\\n",
    "             11: '11', 12: '12'}\n",
    "if months == 1 or months == 2:\n",
    "    year = year - 1 \n",
    "shijishu = year // 100\n",
    "shijiyear = year % 100\n",
    "h = (days + (26 * (eval(monDict[months]) + 1)) // 10 + shijiyear + shijiyear // 4 + shijishu // 4 + 5 * shijishu) % 7\n",
    "print('Day of the week is ' + hdayDict[h])"
   ]
  },
  {
   "cell_type": "markdown",
   "metadata": {},
   "source": [
    "- 10\n",
    "![](../Photo/51.png)"
   ]
  },
  {
   "cell_type": "code",
   "execution_count": 15,
   "metadata": {},
   "outputs": [
    {
     "name": "stdout",
     "output_type": "stream",
     "text": [
      "The card you picked is the  2 of 红桃\n"
     ]
    }
   ],
   "source": [
    "import random\n",
    "a = [\"Ace\",\"2\",\"3\",\"4\",\"5\",\"6\",\"7\",\"8\",\"9\",\"10\",\"Jack\",\"Queen\",\"King\"]\n",
    "b = [\"梅花\",\"红桃\",\"方块\",\"黑桃\"]\n",
    "c = random.randrange(0,14)\n",
    "d = random.randrange(0,4)\n",
    "print('The card you picked is the ',a[c],'of',b[d])"
   ]
  },
  {
   "cell_type": "markdown",
   "metadata": {},
   "source": [
    "- 11\n",
    "![](../Photo/52.png)"
   ]
  },
  {
   "cell_type": "code",
   "execution_count": 8,
   "metadata": {},
   "outputs": [
    {
     "name": "stdout",
     "output_type": "stream",
     "text": [
      "输入一个三位整数：121\n",
      "121 is a palindrome\n"
     ]
    }
   ],
   "source": [
    "num = eval(input('输入一个三位整数：'))\n",
    "a = num // 100\n",
    "c = num % 10\n",
    "if a==c:\n",
    "    print(num,'is a palindrome')\n",
    "else:\n",
    "    print(num,'is not a palindrome')"
   ]
  },
  {
   "cell_type": "markdown",
   "metadata": {},
   "source": [
    "- 12\n",
    "![](../Photo/53.png)"
   ]
  },
  {
   "cell_type": "code",
   "execution_count": 4,
   "metadata": {},
   "outputs": [
    {
     "name": "stdout",
     "output_type": "stream",
     "text": [
      "输入三边1,1,1\n",
      "三边是合法的\n",
      "周长： 3\n"
     ]
    }
   ],
   "source": [
    "a,b,c = eval(input('输入三边'))\n",
    "if a+b>c and a+c>b and b+c>a:\n",
    "    print('三边是合法的')\n",
    "    s = a+b+c\n",
    "    print('周长：',s)\n",
    "else:\n",
    "    print('三边不合法')"
   ]
  }
 ],
 "metadata": {
  "kernelspec": {
   "display_name": "Python 3",
   "language": "python",
   "name": "python3"
  },
  "language_info": {
   "codemirror_mode": {
    "name": "ipython",
    "version": 3
   },
   "file_extension": ".py",
   "mimetype": "text/x-python",
   "name": "python",
   "nbconvert_exporter": "python",
   "pygments_lexer": "ipython3",
   "version": "3.6.4"
  }
 },
 "nbformat": 4,
 "nbformat_minor": 2
}
